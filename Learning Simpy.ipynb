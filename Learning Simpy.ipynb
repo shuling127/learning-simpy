{
 "cells": [
  {
   "cell_type": "code",
   "execution_count": 86,
   "metadata": {},
   "outputs": [],
   "source": [
    "import random \n",
    "import simpy \n",
    "import numpy as np"
   ]
  },
  {
   "attachments": {},
   "cell_type": "markdown",
   "metadata": {},
   "source": [
    "# Call center simulation\n",
    "\n",
    "https://youtu.be/8SLk_uRRcgc "
   ]
  },
  {
   "cell_type": "code",
   "execution_count": 87,
   "metadata": {},
   "outputs": [],
   "source": [
    "# parameters for simulation\n",
    "NUM_EMPLOYEES = 2\n",
    "AVG_SUPPORT_TIME = 5\n",
    "CUSTOMER_INTERVAL = 2\n",
    "SIM_TIME = 120\n",
    "\n",
    "# counter\n",
    "customers_handled = 0"
   ]
  },
  {
   "cell_type": "code",
   "execution_count": 88,
   "metadata": {},
   "outputs": [],
   "source": [
    "class CallCenter: \n",
    "\n",
    "    def __init__(self, env, num_employees, support_time): #env for simulation, from simpy\n",
    "        self.env = env\n",
    "        self.staff = simpy.Resource(env, num_employees) # set number of employees as a resource\n",
    "        self.support_time = support_time\n",
    "\n",
    "    def support(self, customer):\n",
    "        random_time = max(1, np.random.normal(self.support_time, 4)) \n",
    "        yield self.env.timeout(random_time)\n",
    "        print(f\"Support fininshed for {customer} at {self.env.now:.2f}\")"
   ]
  },
  {
   "cell_type": "code",
   "execution_count": 89,
   "metadata": {},
   "outputs": [],
   "source": [
    "def customer(env, name, call_center):\n",
    "    global customers_handled\n",
    "    print(f\"Customer {name} enters waiting queue at {env.now:.2f}\")\n",
    "    with call_center.staff.request() as request:\n",
    "        yield request\n",
    "        print(f\"Customer {name} enters call at {env.now:.2f}\")\n",
    "        yield env.process(call_center.support(name))\n",
    "        print(f\"Customer {name} left call at {env.now:.2f}\")\n",
    "        customers_handled += 1"
   ]
  },
  {
   "cell_type": "code",
   "execution_count": 90,
   "metadata": {},
   "outputs": [],
   "source": [
    "def setup(env, num_employees, support_time, customer_interval):\n",
    "    call_center = CallCenter(env, num_employees, support_time)\n",
    "\n",
    "    for i in range(1,6):\n",
    "        env.process(customer(env, num_employees, call_center))\n",
    "\n",
    "    while True: # while True is True --> loop forever \n",
    "        yield env.timeout(random.randint(customer_interval-1, customer_interval+1))\n",
    "        i += 1\n",
    "        env.process(customer(env, i, call_center))"
   ]
  },
  {
   "cell_type": "code",
   "execution_count": 91,
   "metadata": {},
   "outputs": [
    {
     "name": "stdout",
     "output_type": "stream",
     "text": [
      "Starting Call Center Simulation\n",
      "Customer 2 enters waiting queue at 0.00\n",
      "Customer 2 enters waiting queue at 0.00\n",
      "Customer 2 enters waiting queue at 0.00\n",
      "Customer 2 enters waiting queue at 0.00\n",
      "Customer 2 enters waiting queue at 0.00\n",
      "Customer 2 enters call at 0.00\n",
      "Customer 2 enters call at 0.00\n",
      "Customer 6 enters waiting queue at 1.00\n",
      "Customer 7 enters waiting queue at 3.00\n",
      "Support fininshed for 2 at 4.67\n",
      "Customer 2 left call at 4.67\n",
      "Customer 2 enters call at 4.67\n",
      "Customer 8 enters waiting queue at 5.00\n",
      "Support fininshed for 2 at 5.67\n",
      "Customer 2 left call at 5.67\n",
      "Customer 2 enters call at 5.67\n",
      "Customer 9 enters waiting queue at 6.00\n",
      "Customer 10 enters waiting queue at 7.00\n",
      "Customer 11 enters waiting queue at 8.00\n",
      "Customer 12 enters waiting queue at 9.00\n",
      "Customer 13 enters waiting queue at 12.00\n",
      "Support fininshed for 2 at 12.79\n",
      "Customer 2 left call at 12.79\n",
      "Customer 2 enters call at 12.79\n",
      "Support fininshed for 2 at 12.82\n",
      "Customer 2 left call at 12.82\n",
      "Customer 6 enters call at 12.82\n",
      "Customer 14 enters waiting queue at 15.00\n",
      "Support fininshed for 6 at 16.96\n",
      "Customer 6 left call at 16.96\n",
      "Customer 7 enters call at 16.96\n",
      "Customer 15 enters waiting queue at 18.00\n",
      "Customer 16 enters waiting queue at 20.00\n",
      "Customer 17 enters waiting queue at 23.00\n",
      "Support fininshed for 2 at 23.62\n",
      "Customer 2 left call at 23.62\n",
      "Customer 8 enters call at 23.62\n",
      "Customer 18 enters waiting queue at 25.00\n",
      "Support fininshed for 7 at 25.24\n",
      "Customer 7 left call at 25.24\n",
      "Customer 9 enters call at 25.24\n",
      "Customer 19 enters waiting queue at 26.00\n",
      "Customer 20 enters waiting queue at 29.00\n",
      "Support fininshed for 8 at 30.92\n",
      "Customer 8 left call at 30.92\n",
      "Customer 10 enters call at 30.92\n",
      "Customer 21 enters waiting queue at 32.00\n",
      "Support fininshed for 10 at 32.90\n",
      "Customer 10 left call at 32.90\n",
      "Customer 11 enters call at 32.90\n",
      "Customer 22 enters waiting queue at 34.00\n",
      "Support fininshed for 9 at 34.01\n",
      "Customer 9 left call at 34.01\n",
      "Customer 12 enters call at 34.01\n",
      "Customer 23 enters waiting queue at 36.00\n",
      "Customer 24 enters waiting queue at 38.00\n",
      "Support fininshed for 11 at 39.67\n",
      "Customer 11 left call at 39.67\n",
      "Customer 13 enters call at 39.67\n",
      "Customer 25 enters waiting queue at 40.00\n",
      "Support fininshed for 13 at 40.67\n",
      "Customer 13 left call at 40.67\n",
      "Customer 14 enters call at 40.67\n",
      "Customer 26 enters waiting queue at 41.00\n",
      "Support fininshed for 12 at 42.46\n",
      "Customer 12 left call at 42.46\n",
      "Customer 15 enters call at 42.46\n",
      "Customer 27 enters waiting queue at 43.00\n",
      "Support fininshed for 15 at 43.46\n",
      "Customer 15 left call at 43.46\n",
      "Customer 16 enters call at 43.46\n",
      "Customer 28 enters waiting queue at 44.00\n",
      "Support fininshed for 14 at 44.93\n",
      "Customer 14 left call at 44.93\n",
      "Customer 17 enters call at 44.93\n",
      "Support fininshed for 16 at 46.71\n",
      "Customer 16 left call at 46.71\n",
      "Customer 18 enters call at 46.71\n",
      "Customer 29 enters waiting queue at 47.00\n",
      "Support fininshed for 18 at 47.71\n",
      "Customer 18 left call at 47.71\n",
      "Customer 19 enters call at 47.71\n",
      "Customer 30 enters waiting queue at 49.00\n",
      "Support fininshed for 17 at 50.59\n",
      "Customer 17 left call at 50.59\n",
      "Customer 20 enters call at 50.59\n",
      "Customer 31 enters waiting queue at 51.00\n",
      "Support fininshed for 20 at 51.59\n",
      "Customer 20 left call at 51.59\n",
      "Customer 21 enters call at 51.59\n",
      "Support fininshed for 19 at 51.74\n",
      "Customer 19 left call at 51.74\n",
      "Customer 22 enters call at 51.74\n",
      "Support fininshed for 21 at 52.59\n",
      "Customer 21 left call at 52.59\n",
      "Customer 23 enters call at 52.59\n",
      "Customer 32 enters waiting queue at 54.00\n",
      "Support fininshed for 23 at 54.00\n",
      "Customer 23 left call at 54.00\n",
      "Customer 24 enters call at 54.00\n",
      "Customer 33 enters waiting queue at 55.00\n",
      "Support fininshed for 22 at 55.99\n",
      "Customer 22 left call at 55.99\n",
      "Customer 25 enters call at 55.99\n",
      "Support fininshed for 24 at 56.58\n",
      "Customer 24 left call at 56.58\n",
      "Customer 26 enters call at 56.58\n",
      "Support fininshed for 25 at 56.99\n",
      "Customer 25 left call at 56.99\n",
      "Customer 27 enters call at 56.99\n",
      "Customer 34 enters waiting queue at 57.00\n",
      "Customer 35 enters waiting queue at 59.00\n",
      "Customer 36 enters waiting queue at 62.00\n",
      "Customer 37 enters waiting queue at 63.00\n",
      "Support fininshed for 27 at 63.47\n",
      "Customer 27 left call at 63.47\n",
      "Customer 28 enters call at 63.47\n",
      "Customer 38 enters waiting queue at 65.00\n",
      "Customer 39 enters waiting queue at 66.00\n",
      "Support fininshed for 28 at 66.73\n",
      "Customer 28 left call at 66.73\n",
      "Customer 29 enters call at 66.73\n",
      "Customer 40 enters waiting queue at 67.00\n",
      "Support fininshed for 26 at 67.25\n",
      "Customer 26 left call at 67.25\n",
      "Customer 30 enters call at 67.25\n",
      "Customer 41 enters waiting queue at 69.00\n",
      "Customer 42 enters waiting queue at 72.00\n",
      "Support fininshed for 30 at 72.97\n",
      "Customer 30 left call at 72.97\n",
      "Customer 31 enters call at 72.97\n",
      "Support fininshed for 29 at 73.33\n",
      "Customer 29 left call at 73.33\n",
      "Customer 32 enters call at 73.33\n",
      "Customer 43 enters waiting queue at 75.00\n",
      "Support fininshed for 31 at 77.49\n",
      "Customer 31 left call at 77.49\n",
      "Customer 33 enters call at 77.49\n",
      "Customer 44 enters waiting queue at 78.00\n",
      "Support fininshed for 32 at 79.44\n",
      "Customer 32 left call at 79.44\n",
      "Customer 34 enters call at 79.44\n",
      "Customer 45 enters waiting queue at 80.00\n",
      "Support fininshed for 34 at 80.44\n",
      "Customer 34 left call at 80.44\n",
      "Customer 35 enters call at 80.44\n",
      "Customer 46 enters waiting queue at 82.00\n",
      "Support fininshed for 33 at 82.08\n",
      "Customer 33 left call at 82.08\n",
      "Customer 36 enters call at 82.08\n",
      "Customer 47 enters waiting queue at 83.00\n",
      "Customer 48 enters waiting queue at 85.00\n",
      "Support fininshed for 36 at 85.24\n",
      "Customer 36 left call at 85.24\n",
      "Customer 37 enters call at 85.24\n",
      "Customer 49 enters waiting queue at 87.00\n",
      "Customer 50 enters waiting queue at 88.00\n",
      "Support fininshed for 37 at 88.71\n",
      "Customer 37 left call at 88.71\n",
      "Customer 38 enters call at 88.71\n",
      "Customer 51 enters waiting queue at 89.00\n",
      "Support fininshed for 38 at 89.75\n",
      "Customer 38 left call at 89.75\n",
      "Customer 39 enters call at 89.75\n",
      "Customer 52 enters waiting queue at 92.00\n",
      "Customer 53 enters waiting queue at 94.00\n",
      "Support fininshed for 39 at 94.80\n",
      "Customer 39 left call at 94.80\n",
      "Customer 40 enters call at 94.80\n",
      "Support fininshed for 35 at 95.29\n",
      "Customer 35 left call at 95.29\n",
      "Customer 41 enters call at 95.29\n",
      "Customer 54 enters waiting queue at 97.00\n",
      "Customer 55 enters waiting queue at 100.00\n",
      "Customer 56 enters waiting queue at 101.00\n",
      "Customer 57 enters waiting queue at 102.00\n",
      "Customer 58 enters waiting queue at 103.00\n",
      "Support fininshed for 41 at 103.30\n",
      "Customer 41 left call at 103.30\n",
      "Customer 42 enters call at 103.30\n",
      "Customer 59 enters waiting queue at 105.00\n",
      "Customer 60 enters waiting queue at 107.00\n",
      "Customer 61 enters waiting queue at 108.00\n",
      "Customer 62 enters waiting queue at 109.00\n",
      "Support fininshed for 42 at 109.01\n",
      "Customer 42 left call at 109.01\n",
      "Customer 43 enters call at 109.01\n",
      "Customer 63 enters waiting queue at 110.00\n",
      "Support fininshed for 40 at 110.02\n",
      "Customer 40 left call at 110.02\n",
      "Customer 44 enters call at 110.02\n",
      "Customer 64 enters waiting queue at 111.00\n",
      "Customer 65 enters waiting queue at 112.00\n",
      "Support fininshed for 44 at 112.69\n",
      "Customer 44 left call at 112.69\n",
      "Customer 45 enters call at 112.69\n",
      "Customer 66 enters waiting queue at 115.00\n",
      "Support fininshed for 43 at 116.51\n",
      "Customer 43 left call at 116.51\n",
      "Customer 46 enters call at 116.51\n",
      "Customer 67 enters waiting queue at 118.00\n",
      "Customer 68 enters waiting queue at 119.00\n",
      "Customer handled: 44\n"
     ]
    }
   ],
   "source": [
    "print(\"Starting Call Center Simulation\")\n",
    "env = simpy.Environment()\n",
    "env.process(setup(env, NUM_EMPLOYEES, AVG_SUPPORT_TIME, CUSTOMER_INTERVAL))\n",
    "env.run(until=SIM_TIME)\n",
    "\n",
    "print(f\"Customer handled: {customers_handled}\")"
   ]
  },
  {
   "attachments": {},
   "cell_type": "markdown",
   "metadata": {},
   "source": [
    "# Understanding generators\n",
    "\n",
    "2 ways of creating generators:\n",
    "1. Generator functions\n",
    "2. Generator expressions\n",
    "\n",
    "https://realpython.com/introduction-to-python-generators/"
   ]
  },
  {
   "attachments": {},
   "cell_type": "markdown",
   "metadata": {},
   "source": [
    "## Generator functions\n",
    "\n",
    "Generator functions look and act just like regular functions, but with one defining characteristic. Generator functions use the Python yield keyword instead of return."
   ]
  },
  {
   "cell_type": "code",
   "execution_count": 92,
   "metadata": {},
   "outputs": [
    {
     "name": "stdout",
     "output_type": "stream",
     "text": [
      "0\n",
      "1\n"
     ]
    }
   ],
   "source": [
    "def infinite_sequence():\n",
    "    num = 0\n",
    "    while True:\n",
    "        yield num\n",
    "        num += 1\n",
    "\n",
    "inf = infinite_sequence()\n",
    "print(next(inf))\n",
    "print(next(inf))"
   ]
  },
  {
   "attachments": {},
   "cell_type": "markdown",
   "metadata": {},
   "source": [
    "`yield` indicates where a value is sent back to the caller, but unlike `return`, you *don’t exit the function afterward*.\n",
    "\n",
    "Instead, the state of the function is *remembered*. That way, when next() is called on a generator object (either explicitly or implicitly within a for loop), the previously yielded variable num is incremented, and then yielded again"
   ]
  },
  {
   "attachments": {},
   "cell_type": "markdown",
   "metadata": {},
   "source": [
    "## Generator expressions\n",
    "\n",
    "Like list comprehensions, generator expressions allow you to quickly create a generator object in just a few lines of code. They’re also useful in the same cases where list comprehensions are used, with an added benefit: you can create them without building and holding the entire object in memory before iteration. In other words, you’ll have *no memory penalty* when you use generator expressions"
   ]
  },
  {
   "cell_type": "code",
   "execution_count": 93,
   "metadata": {},
   "outputs": [],
   "source": [
    "nums_squared_lc = [num**2 for num in range(5)] # creates list using brackets\n",
    "nums_squared_gc = (num**2 for num in range(5)) # creates generator expression using parentheses"
   ]
  },
  {
   "cell_type": "code",
   "execution_count": 94,
   "metadata": {},
   "outputs": [
    {
     "name": "stdout",
     "output_type": "stream",
     "text": [
      "[0, 1, 4, 9, 16]\n",
      "<generator object <genexpr> at 0x00000256FD0EB270>\n"
     ]
    }
   ],
   "source": [
    "print(nums_squared_lc)\n",
    "print(nums_squared_gc)"
   ]
  },
  {
   "attachments": {},
   "cell_type": "markdown",
   "metadata": {},
   "source": [
    "# Event discrete simulation with SimPy\n",
    "\n",
    "https://www.youtube.com/watch?v=Bk91DoAEcjY"
   ]
  },
  {
   "cell_type": "code",
   "execution_count": 95,
   "metadata": {},
   "outputs": [
    {
     "name": "stdout",
     "output_type": "stream",
     "text": [
      "fast 0\n",
      "slow 0\n",
      "fast 0.5\n",
      "slow 1\n",
      "fast 1.0\n",
      "fast 1.5\n"
     ]
    }
   ],
   "source": [
    "def clock(env, name, tick):\n",
    "    while True:\n",
    "        # clock will repeat printing current simulation time\n",
    "        print(name, env.now)\n",
    "        # stop the clock\n",
    "        yield env.timeout(tick)\n",
    "\n",
    "# create environment\n",
    "env = simpy.Environment() \n",
    "\n",
    "# print every half simulation step\n",
    "env.process(clock(env, 'fast', 0.5))\n",
    "\n",
    "# print every simulation step\n",
    "env.process(clock(env, 'slow', 1))\n",
    "\n",
    "# run until simulation time 2\n",
    "env.run(until=2)"
   ]
  },
  {
   "attachments": {},
   "cell_type": "markdown",
   "metadata": {},
   "source": [
    "There are 2 kinds of environments:\n",
    "1. Environment - simulate \"as fast as possible\"\n",
    "2. RealtimeEnvionment - synchronized with wall-clock time\n",
    "    * Observe real-time behaviour"
   ]
  },
  {
   "cell_type": "code",
   "execution_count": 96,
   "metadata": {},
   "outputs": [
    {
     "name": "stdout",
     "output_type": "stream",
     "text": [
      "40\n",
      "70\n"
     ]
    }
   ],
   "source": [
    "# timeout events let time pass\n",
    "\n",
    "def speaker(env, start):\n",
    "    while True:\n",
    "        until_start = start - env.now\n",
    "\n",
    "        # let time pass to wait until the start of the talk\n",
    "        yield env.timeout(until_start)\n",
    "\n",
    "        # end the talk after 30 minutes\n",
    "        yield env.timeout(30)\n",
    "\n",
    "        # let next speaker start after prev speaker ends\n",
    "        start = env.now\n",
    "\n",
    "        # print end timings\n",
    "        print(env.now)\n",
    "\n",
    "env = simpy.Environment()\n",
    "env.process(speaker(env, 10))\n",
    "env.run(until=100)"
   ]
  },
  {
   "cell_type": "code",
   "execution_count": 97,
   "metadata": {},
   "outputs": [
    {
     "name": "stdout",
     "output_type": "stream",
     "text": [
      "('end of talk', 30)\n",
      "('end of talk', 60)\n",
      "('end of talk', 90)\n"
     ]
    }
   ],
   "source": [
    "# processes are events too\n",
    "\n",
    "def speaker(env):\n",
    "    # end the talk after 30 minutes\n",
    "    yield env.timeout(30)\n",
    "    return('end of talk', env.now)\n",
    "\n",
    "def moderator(env):\n",
    "    # 3 speakers\n",
    "    for i in range(3):\n",
    "        # spawn speaker process and wait for that to end before sending another speaker\n",
    "        val = yield env.process(speaker(env))\n",
    "        print(val)\n",
    "\n",
    "env = simpy.Environment()\n",
    "env.process(moderator(env))\n",
    "env.run(until=100)"
   ]
  },
  {
   "attachments": {},
   "cell_type": "markdown",
   "metadata": {},
   "source": [
    "## Asynchronous interrupts\n",
    "\n",
    "Documentation: https://simpy.readthedocs.io/en/latest/topical_guides/resources.html\n",
    "\n",
    "\n",
    "In reality, not all speakers speak for exactly 30 minutes. Moderators must interrupt speakers if they exceed their time limit"
   ]
  },
  {
   "cell_type": "code",
   "execution_count": 98,
   "metadata": {},
   "outputs": [
    {
     "name": "stdout",
     "output_type": "stream",
     "text": [
      "27\n",
      "<ConditionValue {<Process(speaker) object at 0x256fd12fd60>: None}>\n",
      "25\n",
      "<ConditionValue {<Process(speaker) object at 0x256fd12faf0>: None}>\n",
      "<ConditionValue {<Timeout(30) object at 0x256fd12fd00>: None}>\n",
      "No time left\n"
     ]
    }
   ],
   "source": [
    "from random import randint\n",
    "\n",
    "def speaker(env):\n",
    "    try:\n",
    "        talk_duration = randint(25, 35)\n",
    "        yield env.timeout(talk_duration)\n",
    "        print(talk_duration)\n",
    "    except simpy.Interrupt as interrupt:\n",
    "        print(interrupt.cause)\n",
    "\n",
    "def moderator(env):\n",
    "    for i in range(3):\n",
    "        speaker_proc = env.process(speaker(env))\n",
    "        results = yield speaker_proc | env.timeout(30) \n",
    "        print(results)\n",
    "\n",
    "        if speaker_proc not in results:\n",
    "            speaker_proc.interrupt('No time left')\n",
    "\n",
    "env = simpy.Environment()\n",
    "env.process(moderator(env))\n",
    "env.run()"
   ]
  },
  {
   "attachments": {},
   "cell_type": "markdown",
   "metadata": {},
   "source": [
    "## Shared resources \n",
    "\n",
    "Documentation: https://simpy.readthedocs.io/en/latest/topical_guides/resources.html\n",
    "\n",
    "Shared resources are another way to model Process Interaction. They form a congestion point where processes *queue* up in order to use them.\n",
    "\n",
    "3 categories:\n",
    "1. Resource - Resources that can be used by a limited number of processes at a time (e.g., a gas station with a limited number of fuel pumps).\n",
    "2. Store - Resources that allow the production and consumption of Python objects.\n",
    "3. Container - Resources that model the production and consumption of a homogeneous, undifferentiated bulk. It may either be continuous (like water) or discrete (like apples).\n",
    "\n",
    "All resources share the same basic concept: The resource itself is some kind of a container with a, usually limited, capacity. Processes can either try to put something into the resource or try to get something out. If the resource is full or empty, they have to queue up and wait.\n",
    "\n",
    "Requesting a resource is modeled as “putting a process’ token into the resource” and releasing a resource correspondingly as “getting a process’ token out of the resource”. Thus, calling `request()`/`release()` is equivalent to calling `put()`/`get()`. Releasing a resource will always succeed immediately."
   ]
  },
  {
   "attachments": {},
   "cell_type": "markdown",
   "metadata": {},
   "source": [
    "## Resource\n",
    "\n",
    "https://simpy.readthedocs.io/en/latest/topical_guides/resources.html#resource\n",
    "\n",
    "The Resource is conceptually a semaphore. Its only parameter – apart from the obligatory reference to an Environment – is its *capacity*. It must be a positive number and defaults to 1: `Resource(env, capacity=1)`"
   ]
  },
  {
   "cell_type": "code",
   "execution_count": 99,
   "metadata": {},
   "outputs": [],
   "source": [
    "# imports\n",
    "from random import randint \n",
    "import simpy"
   ]
  },
  {
   "attachments": {},
   "cell_type": "markdown",
   "metadata": {},
   "source": [
    "Now, we will use simpy to model conference attendees. We will model a continuous flow of talks sessions, with each session containing 3 talks of 30 mins each. There will be a 15 mins break between each session (3 talks)"
   ]
  },
  {
   "cell_type": "code",
   "execution_count": 100,
   "metadata": {},
   "outputs": [],
   "source": [
    "# config\n",
    "TALKS_PER_SESSION = 3\n",
    "TALK_LENGTH = 30\n",
    "BREAK_LENGTH = 15"
   ]
  },
  {
   "cell_type": "code",
   "execution_count": 101,
   "metadata": {},
   "outputs": [
    {
     "name": "stdout",
     "output_type": "stream",
     "text": [
      "Attendee 0 finished talks with knowledge 1.40 and hunger 8\n",
      "Attendee 1 finished talks with knowledge 1.25 and hunger 7\n",
      "Attendee 2 finished talks with knowledge 3.17 and hunger 8\n",
      "Attendee 3 finished talks with knowledge 1.29 and hunger 9\n",
      "Attendee 4 finished talks with knowledge 0.50 and hunger 8\n",
      "Attendee 0 finished eating with hunger 3\n",
      "Attendee 1 finished eating with hunger 0\n",
      "Attendee 2 finished eating with hunger 3\n",
      "Attendee 3 finished eating with hunger 0\n",
      "Attendee 4 finished eating with hunger 2\n",
      "Attendee 0 finished talks with knowledge 1.40 and hunger 12\n",
      "Attendee 1 finished talks with knowledge 2.92 and hunger 7\n",
      "Attendee 2 finished talks with knowledge 4.31 and hunger 12\n",
      "Attendee 3 finished talks with knowledge 1.74 and hunger 11\n",
      "Attendee 4 finished talks with knowledge 2.08 and hunger 7\n",
      "Attendee 0 finished eating with hunger 8\n",
      "Attendee 1 finished eating with hunger 0\n",
      "Attendee 2 finished eating with hunger 1\n",
      "Attendee 3 finished eating with hunger 6\n",
      "Attendee 4 finished eating with hunger 0\n"
     ]
    }
   ],
   "source": [
    "def attendee(env, name, knowledge=0, hunger=0):\n",
    "    # repeat sessions\n",
    "    while True:\n",
    "        # visit talks\n",
    "        for i in range(TALKS_PER_SESSION):\n",
    "            knowledge += randint(0,3) / (1+hunger) # the more hungry the less knowledge\n",
    "            hunger += randint(1,4)\n",
    "\n",
    "            yield env.timeout(TALK_LENGTH)\n",
    "\n",
    "        print(f'Attendee {name} finished talks with knowledge {knowledge:.2f} and hunger {hunger}')\n",
    "\n",
    "        # go to buffet\n",
    "        food = randint(3,12)\n",
    "        hunger -= min(food, hunger)\n",
    "\n",
    "        yield env.timeout(BREAK_LENGTH)\n",
    "\n",
    "        print(f\"Attendee {name} finished eating with hunger {hunger}\")\n",
    "\n",
    "# run simulation\n",
    "env = simpy.Environment()\n",
    "for i in range(5): \n",
    "    env.process(attendee(env, i))\n",
    "env.run(until=220)"
   ]
  },
  {
   "attachments": {},
   "cell_type": "markdown",
   "metadata": {},
   "source": [
    "Now, we will model the buffet in more detail using resource!"
   ]
  },
  {
   "cell_type": "code",
   "execution_count": 102,
   "metadata": {},
   "outputs": [],
   "source": [
    "# config\n",
    "DURATION_EAT = 3\n",
    "#   only one person can get food at a time\n",
    "BUFFET_SLOTS = 1"
   ]
  },
  {
   "cell_type": "code",
   "execution_count": 103,
   "metadata": {},
   "outputs": [
    {
     "name": "stdout",
     "output_type": "stream",
     "text": [
      "Attendee 0 finished talks with knowledge 0.25 and hunger 6\n",
      "Attendee 1 finished talks with knowledge 2.40 and hunger 9\n",
      "Attendee 2 finished talks with knowledge 0.76 and hunger 10\n",
      "Attendee 3 finished talks with knowledge 3.00 and hunger 10\n",
      "Attendee 4 finished talks with knowledge 0.54 and hunger 10\n",
      "Attendee 0 finished eating with hunger 0\n",
      "Attendee 1 finished eating with hunger 4\n",
      "Attendee 2 finished eating with hunger 6\n",
      "Attendee 3 finished eating with hunger 4\n",
      "Attendee 4 didn't make it to the buffet, hunger is now 9\n",
      "Attendee 0 finished talks with knowledge 2.25 and hunger 8\n",
      "Attendee 1 finished talks with knowledge 3.29 and hunger 14\n",
      "Attendee 2 finished talks with knowledge 1.24 and hunger 12\n",
      "Attendee 3 finished talks with knowledge 3.78 and hunger 12\n",
      "Attendee 4 finished talks with knowledge 0.86 and hunger 18\n",
      "Attendee 0 finished eating with hunger 0\n",
      "Attendee 1 finished eating with hunger 10\n",
      "Attendee 2 finished eating with hunger 3\n",
      "Attendee 3 finished eating with hunger 6\n",
      "Attendee 4 didn't make it to the buffet, hunger is now 17\n"
     ]
    }
   ],
   "source": [
    "def attendee(env, name, buffet, knowledge=0, hunger=0):\n",
    "    # repeat sessions\n",
    "    while True:\n",
    "        # visit talks\n",
    "        for i in range(TALKS_PER_SESSION):\n",
    "            knowledge += randint(0,3) / (1+hunger) # the more hungry the less knowledge\n",
    "            hunger += randint(1,4)\n",
    "\n",
    "            yield env.timeout(TALK_LENGTH)\n",
    "\n",
    "        print(f'Attendee {name} finished talks with knowledge {knowledge:.2f} and hunger {hunger}')\n",
    "\n",
    "        # go to buffet\n",
    "        start = env.now\n",
    "        # generate a request event\n",
    "        with buffet.request() as req: # use with statements so that resources are automatically released, otherwise resources need to be released manually\n",
    "            # yield a condition event to wait either until we get to the buffet \n",
    "            # or at least until 12 mins of the break has passed \n",
    "            # (otherwise we would not have time to eat)\n",
    "            yield req | env.timeout(BREAK_LENGTH - DURATION_EAT) # wait for access\n",
    "            time_left = BREAK_LENGTH - (env.now - start)\n",
    "\n",
    "            if req.triggered:\n",
    "                food = min(randint(3,12), time_left) # less time -> less food\n",
    "                yield env.timeout(DURATION_EAT)\n",
    "                hunger -= min(food, hunger)\n",
    "                time_left -= DURATION_EAT\n",
    "                print(f\"Attendee {name} finished eating with hunger {hunger}\")\n",
    "            else:\n",
    "                hunger -= 1 # penalty for not eating\n",
    "                print(f\"Attendee {name} didn't make it to the buffet, hunger is now {hunger}\")\n",
    "\n",
    "        # wait until break is over\n",
    "        yield env.timeout(time_left)\n",
    "\n",
    "# run simulation\n",
    "env = simpy.Environment()\n",
    "# create buffet resource\n",
    "buffet = simpy.Resource(env, capacity=BUFFET_SLOTS)\n",
    "for i in range(5): \n",
    "    env.process(attendee(env, i, buffet))\n",
    "env.run(until=220)"
   ]
  },
  {
   "attachments": {},
   "cell_type": "markdown",
   "metadata": {},
   "source": [
    "### Priority resource\n",
    "\n",
    "https://simpy.readthedocs.io/en/latest/topical_guides/resources.html#priorityresource\n",
    "\n",
    "As you may know from the real world, not every one is equally important. To map that to SimPy, there’s the `PriorityResource`. This subclass of Resource lets requesting processes provide a `priority` for each request. More important requests will gain access to the resource earlier than less important ones. Priority is expressed by integer numbers; *smaller numbers mean a higher priority*"
   ]
  },
  {
   "cell_type": "code",
   "execution_count": 104,
   "metadata": {},
   "outputs": [
    {
     "name": "stdout",
     "output_type": "stream",
     "text": [
      "Attendee 0 finished talks at 90 with knowledge 1.45 and hunger 6\n",
      "Attendee 0 requesting to eat buffet at 90 with priority 0\n",
      "Attendee 1 finished talks at 90 with knowledge 1.03 and hunger 7\n",
      "Attendee 1 requesting to eat buffet at 90 with priority 2\n",
      "Attendee 2 finished talks at 90 with knowledge 0.89 and hunger 10\n",
      "Attendee 2 requesting to eat buffet at 90 with priority 1\n",
      "Attendee 0 got resource at 90\n",
      "Attendee 0 finished eating with hunger 0\n",
      "Attendee 2 got resource at 93\n",
      "Attendee 2 finished eating with hunger 5\n",
      "Attendee 1 got resource at 96\n",
      "Attendee 1 finished eating with hunger 0\n",
      "Attendee 0 finished talks at 195 with knowledge 4.87 and hunger 9\n",
      "Attendee 0 requesting to eat buffet at 195 with priority 0\n",
      "Attendee 2 finished talks at 195 with knowledge 1.32 and hunger 11\n",
      "Attendee 2 requesting to eat buffet at 195 with priority 1\n",
      "Attendee 1 finished talks at 195 with knowledge 1.78 and hunger 8\n",
      "Attendee 1 requesting to eat buffet at 195 with priority 2\n",
      "Attendee 0 got resource at 195\n",
      "Attendee 0 finished eating with hunger 1\n",
      "Attendee 2 got resource at 198\n",
      "Attendee 2 finished eating with hunger 6\n",
      "Attendee 1 got resource at 201\n",
      "Attendee 1 finished eating with hunger 3\n"
     ]
    }
   ],
   "source": [
    "def attendee(env, name, buffet, knowledge=0, hunger=0):\n",
    "    # repeat sessions\n",
    "    while True:\n",
    "        # visit talks\n",
    "        for i in range(TALKS_PER_SESSION):\n",
    "            knowledge += randint(0,3) / (1+hunger) # the more hungry the less knowledge\n",
    "            hunger += randint(1,4)\n",
    "            prio = randint(0,2)\n",
    "\n",
    "            yield env.timeout(TALK_LENGTH)\n",
    "\n",
    "        print(f'Attendee {name} finished talks at {env.now} with knowledge {knowledge:.2f} and hunger {hunger}')\n",
    "\n",
    "        # go to buffet\n",
    "        start_break = env.now\n",
    "        # generate a request event\n",
    "        with buffet.request(priority=prio) as req: # use with statements so that resources are automatically released, otherwise resources need to be released manually\n",
    "            # yield a condition event to wait either until we get to the buffet \n",
    "            # or at least until 12 mins of the break has passed \n",
    "            # (otherwise we would not have time to eat)\n",
    "            print(f'Attendee {name} requesting to eat buffet at {env.now} with priority {prio}')\n",
    "            yield req | env.timeout(BREAK_LENGTH - DURATION_EAT) # wait for access\n",
    "            print(f'Attendee {name} got resource at {env.now}')\n",
    "            time_left = BREAK_LENGTH - (env.now - start_break)\n",
    "\n",
    "            if req.triggered:\n",
    "                food = min(randint(3,12), time_left) # less time -> less food\n",
    "                yield env.timeout(DURATION_EAT)\n",
    "                hunger -= min(food, hunger)\n",
    "                time_left -= DURATION_EAT\n",
    "                print(f\"Attendee {name} finished eating with hunger {hunger}\")\n",
    "            else:\n",
    "                hunger -= 1 # penalty for not eating\n",
    "                print(f\"Attendee {name} didn't make it to the buffet, hunger is now {hunger}\")\n",
    "\n",
    "        # wait until break is over\n",
    "        yield env.timeout(time_left)\n",
    "\n",
    "# run simulation\n",
    "env = simpy.Environment()\n",
    "# create buffet resource\n",
    "buffet = simpy.PriorityResource(env, capacity=BUFFET_SLOTS)\n",
    "for i in range(3): \n",
    "    env.process(attendee(env, i, buffet))\n",
    "env.run(until=220)"
   ]
  },
  {
   "attachments": {},
   "cell_type": "markdown",
   "metadata": {},
   "source": [
    "https://stackoverflow.com/questions/23651193/simpy-3-0-4-setting-resource-priority\n",
    "\n",
    "When the resource is empty, it is based on first come first serve basis. The remaining processes will have to queue to get the resource. "
   ]
  },
  {
   "attachments": {},
   "cell_type": "markdown",
   "metadata": {},
   "source": [
    "### Preemptive resource\n",
    "\n",
    "https://simpy.readthedocs.io/en/latest/topical_guides/resources.html#preemptiveresource\n",
    "\n",
    "PreemptiveResource inherits from PriorityResource and adds a *preempt flag* (that defaults to True) to `request()`. By setting this to `False` (`resource.request(priority=x, preempt=False)`), a process can decide to not preempt another resource user. It will still be put in the queue according to its priority, though."
   ]
  },
  {
   "cell_type": "code",
   "execution_count": 106,
   "metadata": {},
   "outputs": [
    {
     "name": "stdout",
     "output_type": "stream",
     "text": [
      "Attendee 0 finished talks at 90 with knowledge 2.50 and hunger 7\n",
      "Attendee 0 requesting to eat buffet at 90 with priority 0\n",
      "Attendee 1 finished talks at 90 with knowledge 2.08 and hunger 5\n",
      "Attendee 1 requesting to eat buffet at 90 with priority 0\n",
      "Attendee 2 finished talks at 90 with knowledge 3.67 and hunger 8\n",
      "Attendee 2 requesting to eat buffet at 90 with priority 1\n",
      "Attendee 0 got resource at 90\n",
      "Attendee 0 finished eating with hunger 0\n",
      "Attendee 1 got resource at 93\n",
      "Attendee 1 finished eating with hunger 0\n",
      "Attendee 2 got resource at 96\n",
      "Attendee 2 finished eating with hunger 0\n",
      "Attendee 0 finished talks at 195 with knowledge 4.90 and hunger 10\n",
      "Attendee 0 requesting to eat buffet at 195 with priority 2\n",
      "Attendee 1 finished talks at 195 with knowledge 5.48 and hunger 10\n",
      "Attendee 1 requesting to eat buffet at 195 with priority 2\n",
      "Attendee 2 finished talks at 195 with knowledge 7.50 and hunger 6\n",
      "Attendee 2 requesting to eat buffet at 195 with priority 1\n",
      "Attendee 0 got preempted by <Process(attendee) object at 0x256fd06bfd0> at 195 after 0\n",
      "Attendee 2 got resource at 195\n",
      "Attendee 2 finished eating with hunger 0\n",
      "Attendee 1 got resource at 198\n",
      "Attendee 1 finished eating with hunger 6\n"
     ]
    }
   ],
   "source": [
    "def attendee(env, name, buffet, knowledge=0, hunger=0):\n",
    "    # repeat sessions\n",
    "    while True:\n",
    "        # visit talks\n",
    "        for i in range(TALKS_PER_SESSION):\n",
    "            knowledge += randint(0,3) / (1+hunger) # the more hungry the less knowledge\n",
    "            hunger += randint(1,4)\n",
    "            prio = randint(0,2)\n",
    "\n",
    "            yield env.timeout(TALK_LENGTH)\n",
    "\n",
    "        print(f'Attendee {name} finished talks at {env.now} with knowledge {knowledge:.2f} and hunger {hunger}')\n",
    "\n",
    "        # go to buffet\n",
    "        start_break = env.now\n",
    "        # generate a request event\n",
    "        with buffet.request(priority=prio) as req: # use with statements so that resources are automatically released, otherwise resources need to be released manually\n",
    "            # yield a condition event to wait either until we get to the buffet \n",
    "            # or at least until 12 mins of the break has passed \n",
    "            # (otherwise we would not have time to eat)\n",
    "            try:\n",
    "                print(f'Attendee {name} requesting to eat buffet at {env.now} with priority {prio}')\n",
    "                yield req | env.timeout(BREAK_LENGTH - DURATION_EAT) # wait for access\n",
    "                print(f'Attendee {name} got resource at {env.now}')\n",
    "                time_left = BREAK_LENGTH - (env.now - start_break)\n",
    "                \n",
    "                if req.triggered:\n",
    "                    food = min(randint(3,12), time_left) # less time -> less food\n",
    "                    yield env.timeout(DURATION_EAT)\n",
    "                    hunger -= min(food, hunger)\n",
    "                    time_left -= DURATION_EAT\n",
    "                    print(f\"Attendee {name} finished eating with hunger {hunger}\")\n",
    "                else:\n",
    "                    hunger -= 1 # penalty for not eating\n",
    "                    print(f\"Attendee {name} didn't make it to the buffet, hunger is now {hunger}\")\n",
    "            \n",
    "            except simpy.Interrupt as interrupt:\n",
    "                by = interrupt.cause.by\n",
    "                usage = env.now - interrupt.cause.usage_since\n",
    "                print(f'Attendee {name} got preempted by {by} at {env.now} after {usage}')\n",
    "        \n",
    "        # wait until break is over\n",
    "        yield env.timeout(time_left)\n",
    "\n",
    "# run simulation\n",
    "env = simpy.Environment()\n",
    "# create buffet resource\n",
    "buffet = simpy.PreemptiveResource(env, capacity=BUFFET_SLOTS)\n",
    "for i in range(3): \n",
    "    env.process(attendee(env, i, buffet))\n",
    "env.run(until=220)"
   ]
  },
  {
   "attachments": {},
   "cell_type": "markdown",
   "metadata": {},
   "source": [
    "## Containers \n",
    "\n",
    "Containers help you modelling the production and consumption of a homogeneous, undifferentiated bulk. It may either be continuous (like water) or discrete (like apples).\n",
    "\n",
    "You can use this, for example, to model the gas / petrol tank of a gas station. Tankers increase the amount of gasoline in the tank while cars decrease it."
   ]
  },
  {
   "cell_type": "code",
   "execution_count": 111,
   "metadata": {},
   "outputs": [
    {
     "name": "stdout",
     "output_type": "stream",
     "text": [
      "Car 0 arriving at 0\n",
      "Car 0 start refueling at 0\n",
      "Car 1 arriving at 5\n",
      "Car 0 done refueling at 5\n",
      "Car 1 start refueling at 5\n",
      "Car 2 arriving at 10\n",
      "Car 1 done refueling at 10\n",
      "Car 2 start refueling at 10\n",
      "Calling tanker at 15\n",
      "Car 3 arriving at 15\n",
      "Car 3 start refueling at 15\n",
      "Tanker arriving at 25\n",
      "Car 2 done refueling at 30\n",
      "Car 3 done refueling at 30\n"
     ]
    }
   ],
   "source": [
    "class GasStation:\n",
    "    def __init__(self, env):\n",
    "        self.fuel_dispensers = simpy.Resource(env, capacity=2)\n",
    "        self.gas_tank = simpy.Container(env, init=100, capacity=1000)\n",
    "        self.mon_proc = env.process(self.monitor_tank(env))\n",
    "\n",
    "    def monitor_tank(self, env):\n",
    "        while True:\n",
    "            if self.gas_tank.level < 100:\n",
    "                print(f\"Calling tanker at {env.now}\")\n",
    "                env.process(tanker(env, self))\n",
    "            yield env.timeout(15) \n",
    "\n",
    "def tanker(env, gas_station):\n",
    "    yield env.timeout(10) # need 10 minutes to arrive\n",
    "    print(f\"Tanker arriving at {env.now}\")\n",
    "    amount = gas_station.gas_tank.capacity - gas_station.gas_tank.level\n",
    "    yield gas_station.gas_tank.put(amount)\n",
    "\n",
    "def car(name, env, gas_station):\n",
    "    print(f\"Car {name} arriving at {env.now}\")\n",
    "    with gas_station.fuel_dispensers.request() as req:\n",
    "        yield req\n",
    "        print(f\"Car {name} start refueling at {env.now}\")\n",
    "        yield gas_station.gas_tank.get(40)\n",
    "        yield env.timeout(5) # 5 min to refuel tank\n",
    "        print(f\"Car {name} done refueling at {env.now}\")\n",
    "\n",
    "def car_generator(env, gas_station):\n",
    "    for i in range(4):\n",
    "        env.process(car(i, env, gas_station))\n",
    "        yield env.timeout(5) # wait 5 min between each car\n",
    "\n",
    "env = simpy.Environment()\n",
    "gas_station = GasStation(env)\n",
    "car_gen = env.process(car_generator(env, gas_station))\n",
    "env.run(35)"
   ]
  },
  {
   "attachments": {},
   "cell_type": "markdown",
   "metadata": {},
   "source": [
    "Containers allow you to retrieve their current `level` as well as their `capacity`(see GasStation.monitor_tank() and tanker()). You can also access the list of waiting events via the `put_queue` and `get_queue` attributes (similar to Resource.queue)."
   ]
  },
  {
   "attachments": {},
   "cell_type": "markdown",
   "metadata": {},
   "source": [
    "## Stores \n",
    "\n",
    "Using Stores you can model the production and consumption of concrete objects (in contrast to the rather abstract “amount” stored in containers). A single Store can even contain multiple types of objects."
   ]
  },
  {
   "cell_type": "code",
   "execution_count": null,
   "metadata": {},
   "outputs": [],
   "source": []
  },
  {
   "attachments": {},
   "cell_type": "markdown",
   "metadata": {},
   "source": [
    "# Simulating a Single Server Queuing System with Python\n",
    "\n",
    "https://medium.com/analytics-vidhya/simulating-a-single-server-queuing-system-in-python-f8e32578749f"
   ]
  },
  {
   "attachments": {},
   "cell_type": "markdown",
   "metadata": {},
   "source": [
    "# Simulating two-sided mobility platforms with MaaSSim\n",
    "\n",
    "https://www.ncbi.nlm.nih.gov/pmc/articles/PMC9182263/"
   ]
  }
 ],
 "metadata": {
  "kernelspec": {
   "display_name": "Python 3",
   "language": "python",
   "name": "python3"
  },
  "language_info": {
   "codemirror_mode": {
    "name": "ipython",
    "version": 3
   },
   "file_extension": ".py",
   "mimetype": "text/x-python",
   "name": "python",
   "nbconvert_exporter": "python",
   "pygments_lexer": "ipython3",
   "version": "3.9.13"
  },
  "orig_nbformat": 4,
  "vscode": {
   "interpreter": {
    "hash": "a099c5b74a4ccba8c115409387181d0b84f44b87b8ce47ddd5335e40a2546608"
   }
  }
 },
 "nbformat": 4,
 "nbformat_minor": 2
}
