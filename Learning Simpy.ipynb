{
 "cells": [
  {
   "cell_type": "code",
   "execution_count": 43,
   "metadata": {},
   "outputs": [],
   "source": [
    "import random \n",
    "import simpy \n",
    "import numpy as np"
   ]
  },
  {
   "attachments": {},
   "cell_type": "markdown",
   "metadata": {},
   "source": [
    "# Call center simulation\n",
    "\n",
    "https://youtu.be/8SLk_uRRcgc "
   ]
  },
  {
   "cell_type": "code",
   "execution_count": 44,
   "metadata": {},
   "outputs": [],
   "source": [
    "# parameters for simulation\n",
    "NUM_EMPLOYEES = 2\n",
    "AVG_SUPPORT_TIME = 5\n",
    "CUSTOMER_INTERVAL = 2\n",
    "SIM_TIME = 120\n",
    "\n",
    "# counter\n",
    "customers_handled = 0"
   ]
  },
  {
   "cell_type": "code",
   "execution_count": 45,
   "metadata": {},
   "outputs": [],
   "source": [
    "class CallCenter: \n",
    "\n",
    "    def __init__(self, env, num_employees, support_time): #env for simulation, from simpy\n",
    "        self.env = env\n",
    "        self.staff = simpy.Resource(env, num_employees) # set number of employees as a resource\n",
    "        self.support_time = support_time\n",
    "\n",
    "    def support(self, customer):\n",
    "        random_time = max(1, np.random.normal(self.support_time, 4)) \n",
    "        yield self.env.timeout(random_time)\n",
    "        print(f\"Support fininshed for {customer} at {self.env.now:.2f}\")"
   ]
  },
  {
   "cell_type": "code",
   "execution_count": 46,
   "metadata": {},
   "outputs": [],
   "source": [
    "def customer(env, name, call_center):\n",
    "    global customers_handled\n",
    "    print(f\"Customer {name} enters waiting queue at {env.now:.2f}\")\n",
    "    with call_center.staff.request() as request:\n",
    "        yield request\n",
    "        print(f\"Customer {name} enters call at {env.now:.2f}\")\n",
    "        yield env.process(call_center.support(name))\n",
    "        print(f\"Customer {name} left call at {env.now:.2f}\")\n",
    "        customers_handled += 1"
   ]
  },
  {
   "cell_type": "code",
   "execution_count": 47,
   "metadata": {},
   "outputs": [],
   "source": [
    "def setup(env, num_employees, support_time, customer_interval):\n",
    "    call_center = CallCenter(env, num_employees, support_time)\n",
    "\n",
    "    for i in range(1,6):\n",
    "        env.process(customer(env, num_employees, call_center))\n",
    "\n",
    "    while True: # while True is True --> loop forever \n",
    "        yield env.timeout(random.randint(customer_interval-1, customer_interval+1))\n",
    "        i += 1\n",
    "        env.process(customer(env, i, call_center))"
   ]
  },
  {
   "cell_type": "code",
   "execution_count": 48,
   "metadata": {},
   "outputs": [
    {
     "name": "stdout",
     "output_type": "stream",
     "text": [
      "Starting Call Center Simulation\n",
      "Customer 2 enters waiting queue at 0.00\n",
      "Customer 2 enters waiting queue at 0.00\n",
      "Customer 2 enters waiting queue at 0.00\n",
      "Customer 2 enters waiting queue at 0.00\n",
      "Customer 2 enters waiting queue at 0.00\n",
      "Customer 2 enters call at 0.00\n",
      "Customer 2 enters call at 0.00\n",
      "Support fininshed for 2 at 1.00\n",
      "Support fininshed for 2 at 1.00\n",
      "Customer 2 left call at 1.00\n",
      "Customer 2 left call at 1.00\n",
      "Customer 2 enters call at 1.00\n",
      "Customer 2 enters call at 1.00\n",
      "Customer 6 enters waiting queue at 3.00\n",
      "Support fininshed for 2 at 3.80\n",
      "Customer 2 left call at 3.80\n",
      "Customer 2 enters call at 3.80\n",
      "Customer 7 enters waiting queue at 5.00\n",
      "Support fininshed for 2 at 6.74\n",
      "Customer 2 left call at 6.74\n",
      "Customer 6 enters call at 6.74\n",
      "Customer 8 enters waiting queue at 8.00\n",
      "Support fininshed for 2 at 9.79\n",
      "Customer 2 left call at 9.79\n",
      "Customer 7 enters call at 9.79\n",
      "Customer 9 enters waiting queue at 10.00\n",
      "Customer 10 enters waiting queue at 11.00\n",
      "Customer 11 enters waiting queue at 12.00\n",
      "Support fininshed for 6 at 13.91\n",
      "Customer 6 left call at 13.91\n",
      "Customer 8 enters call at 13.91\n",
      "Customer 12 enters waiting queue at 14.00\n",
      "Support fininshed for 7 at 14.73\n",
      "Customer 7 left call at 14.73\n",
      "Customer 9 enters call at 14.73\n",
      "Support fininshed for 8 at 14.91\n",
      "Customer 8 left call at 14.91\n",
      "Customer 10 enters call at 14.91\n",
      "Customer 13 enters waiting queue at 15.00\n",
      "Customer 14 enters waiting queue at 18.00\n",
      "Support fininshed for 9 at 18.51\n",
      "Customer 9 left call at 18.51\n",
      "Customer 11 enters call at 18.51\n",
      "Customer 15 enters waiting queue at 19.00\n",
      "Customer 16 enters waiting queue at 20.00\n",
      "Customer 17 enters waiting queue at 21.00\n",
      "Customer 18 enters waiting queue at 23.00\n",
      "Support fininshed for 11 at 23.50\n",
      "Customer 11 left call at 23.50\n",
      "Customer 12 enters call at 23.50\n",
      "Support fininshed for 10 at 23.83\n",
      "Customer 10 left call at 23.83\n",
      "Customer 13 enters call at 23.83\n",
      "Support fininshed for 12 at 24.50\n",
      "Customer 12 left call at 24.50\n",
      "Customer 14 enters call at 24.50\n",
      "Customer 19 enters waiting queue at 25.00\n",
      "Customer 20 enters waiting queue at 28.00\n",
      "Customer 21 enters waiting queue at 30.00\n",
      "Support fininshed for 14 at 30.30\n",
      "Customer 14 left call at 30.30\n",
      "Customer 15 enters call at 30.30\n",
      "Customer 22 enters waiting queue at 32.00\n",
      "Support fininshed for 13 at 32.16\n",
      "Customer 13 left call at 32.16\n",
      "Customer 16 enters call at 32.16\n",
      "Customer 23 enters waiting queue at 34.00\n",
      "Customer 24 enters waiting queue at 35.00\n",
      "Customer 25 enters waiting queue at 36.00\n",
      "Customer 26 enters waiting queue at 38.00\n",
      "Customer 27 enters waiting queue at 39.00\n",
      "Support fininshed for 15 at 40.61\n",
      "Customer 15 left call at 40.61\n",
      "Customer 17 enters call at 40.61\n",
      "Customer 28 enters waiting queue at 41.00\n",
      "Support fininshed for 16 at 41.18\n",
      "Customer 16 left call at 41.18\n",
      "Customer 18 enters call at 41.18\n",
      "Support fininshed for 17 at 41.61\n",
      "Customer 17 left call at 41.61\n",
      "Customer 19 enters call at 41.61\n",
      "Customer 29 enters waiting queue at 44.00\n",
      "Support fininshed for 18 at 44.60\n",
      "Customer 18 left call at 44.60\n",
      "Customer 20 enters call at 44.60\n",
      "Support fininshed for 20 at 45.60\n",
      "Customer 20 left call at 45.60\n",
      "Customer 21 enters call at 45.60\n",
      "Customer 30 enters waiting queue at 46.00\n",
      "Customer 31 enters waiting queue at 47.00\n",
      "Support fininshed for 19 at 47.15\n",
      "Customer 19 left call at 47.15\n",
      "Customer 22 enters call at 47.15\n",
      "Customer 32 enters waiting queue at 49.00\n",
      "Customer 33 enters waiting queue at 50.00\n",
      "Support fininshed for 21 at 50.25\n",
      "Customer 21 left call at 50.25\n",
      "Customer 23 enters call at 50.25\n",
      "Support fininshed for 22 at 50.72\n",
      "Customer 22 left call at 50.72\n",
      "Customer 24 enters call at 50.72\n",
      "Customer 34 enters waiting queue at 52.00\n",
      "Customer 35 enters waiting queue at 54.00\n",
      "Support fininshed for 23 at 55.01\n",
      "Customer 23 left call at 55.01\n",
      "Customer 25 enters call at 55.01\n",
      "Support fininshed for 24 at 56.38\n",
      "Customer 24 left call at 56.38\n",
      "Customer 26 enters call at 56.38\n",
      "Customer 36 enters waiting queue at 57.00\n",
      "Support fininshed for 25 at 57.65\n",
      "Customer 25 left call at 57.65\n",
      "Customer 27 enters call at 57.65\n",
      "Customer 37 enters waiting queue at 60.00\n",
      "Customer 38 enters waiting queue at 62.00\n",
      "Customer 39 enters waiting queue at 64.00\n",
      "Support fininshed for 27 at 64.34\n",
      "Customer 27 left call at 64.34\n",
      "Customer 28 enters call at 64.34\n",
      "Support fininshed for 26 at 65.81\n",
      "Customer 26 left call at 65.81\n",
      "Customer 29 enters call at 65.81\n",
      "Support fininshed for 28 at 66.37\n",
      "Customer 28 left call at 66.37\n",
      "Customer 30 enters call at 66.37\n",
      "Customer 40 enters waiting queue at 67.00\n",
      "Customer 41 enters waiting queue at 68.00\n",
      "Support fininshed for 29 at 70.71\n",
      "Customer 29 left call at 70.71\n",
      "Customer 31 enters call at 70.71\n",
      "Customer 42 enters waiting queue at 71.00\n",
      "Customer 43 enters waiting queue at 74.00\n",
      "Customer 44 enters waiting queue at 77.00\n",
      "Customer 45 enters waiting queue at 79.00\n",
      "Support fininshed for 31 at 79.09\n",
      "Customer 31 left call at 79.09\n",
      "Customer 32 enters call at 79.09\n",
      "Support fininshed for 30 at 80.01\n",
      "Customer 30 left call at 80.01\n",
      "Customer 33 enters call at 80.01\n",
      "Customer 46 enters waiting queue at 81.00\n",
      "Customer 47 enters waiting queue at 82.00\n",
      "Support fininshed for 32 at 83.34\n",
      "Customer 32 left call at 83.34\n",
      "Customer 34 enters call at 83.34\n",
      "Customer 48 enters waiting queue at 84.00\n",
      "Customer 49 enters waiting queue at 86.00\n",
      "Support fininshed for 33 at 86.51\n",
      "Customer 33 left call at 86.51\n",
      "Customer 35 enters call at 86.51\n",
      "Support fininshed for 34 at 88.50\n",
      "Customer 34 left call at 88.50\n",
      "Customer 36 enters call at 88.50\n",
      "Customer 50 enters waiting queue at 89.00\n",
      "Support fininshed for 35 at 91.29\n",
      "Customer 35 left call at 91.29\n",
      "Customer 37 enters call at 91.29\n",
      "Customer 51 enters waiting queue at 92.00\n",
      "Support fininshed for 36 at 93.50\n",
      "Customer 36 left call at 93.50\n",
      "Customer 38 enters call at 93.50\n",
      "Customer 52 enters waiting queue at 95.00\n",
      "Customer 53 enters waiting queue at 98.00\n",
      "Support fininshed for 37 at 99.32\n",
      "Customer 37 left call at 99.32\n",
      "Customer 39 enters call at 99.32\n",
      "Customer 54 enters waiting queue at 100.00\n",
      "Customer 55 enters waiting queue at 103.00\n",
      "Support fininshed for 39 at 103.56\n",
      "Customer 39 left call at 103.56\n",
      "Customer 40 enters call at 103.56\n",
      "Support fininshed for 38 at 105.71\n",
      "Customer 38 left call at 105.71\n",
      "Customer 41 enters call at 105.71\n",
      "Customer 56 enters waiting queue at 106.00\n",
      "Customer 57 enters waiting queue at 108.00\n",
      "Support fininshed for 40 at 109.43\n",
      "Customer 40 left call at 109.43\n",
      "Customer 42 enters call at 109.43\n",
      "Customer 58 enters waiting queue at 111.00\n",
      "Customer 59 enters waiting queue at 113.00\n",
      "Support fininshed for 41 at 113.63\n",
      "Customer 41 left call at 113.63\n",
      "Customer 43 enters call at 113.63\n",
      "Support fininshed for 43 at 114.63\n",
      "Customer 43 left call at 114.63\n",
      "Customer 44 enters call at 114.63\n",
      "Customer 60 enters waiting queue at 115.00\n",
      "Customer 61 enters waiting queue at 118.00\n",
      "Support fininshed for 42 at 118.67\n",
      "Customer 42 left call at 118.67\n",
      "Customer 45 enters call at 118.67\n",
      "Customer 62 enters waiting queue at 119.00\n",
      "Customer handled: 43\n"
     ]
    }
   ],
   "source": [
    "print(\"Starting Call Center Simulation\")\n",
    "env = simpy.Environment()\n",
    "env.process(setup(env, NUM_EMPLOYEES, AVG_SUPPORT_TIME, CUSTOMER_INTERVAL))\n",
    "env.run(until=SIM_TIME)\n",
    "\n",
    "print(f\"Customer handled: {customers_handled}\")"
   ]
  },
  {
   "attachments": {},
   "cell_type": "markdown",
   "metadata": {},
   "source": [
    "# Understanding generators\n",
    "\n",
    "2 ways of creating generators:\n",
    "1. Generator functions\n",
    "2. Generator expressions\n",
    "\n",
    "https://realpython.com/introduction-to-python-generators/"
   ]
  },
  {
   "attachments": {},
   "cell_type": "markdown",
   "metadata": {},
   "source": [
    "## Generator functions\n",
    "\n",
    "Generator functions look and act just like regular functions, but with one defining characteristic. Generator functions use the Python yield keyword instead of return."
   ]
  },
  {
   "cell_type": "code",
   "execution_count": 49,
   "metadata": {},
   "outputs": [
    {
     "name": "stdout",
     "output_type": "stream",
     "text": [
      "0\n",
      "1\n"
     ]
    }
   ],
   "source": [
    "def infinite_sequence():\n",
    "    num = 0\n",
    "    while True:\n",
    "        yield num\n",
    "        num += 1\n",
    "\n",
    "inf = infinite_sequence()\n",
    "print(next(inf))\n",
    "print(next(inf))"
   ]
  },
  {
   "attachments": {},
   "cell_type": "markdown",
   "metadata": {},
   "source": [
    "`yield` indicates where a value is sent back to the caller, but unlike `return`, you *don’t exit the function afterward*.\n",
    "\n",
    "Instead, the state of the function is *remembered*. That way, when next() is called on a generator object (either explicitly or implicitly within a for loop), the previously yielded variable num is incremented, and then yielded again"
   ]
  },
  {
   "attachments": {},
   "cell_type": "markdown",
   "metadata": {},
   "source": [
    "## Generator expressions\n",
    "\n",
    "Like list comprehensions, generator expressions allow you to quickly create a generator object in just a few lines of code. They’re also useful in the same cases where list comprehensions are used, with an added benefit: you can create them without building and holding the entire object in memory before iteration. In other words, you’ll have *no memory penalty* when you use generator expressions"
   ]
  },
  {
   "cell_type": "code",
   "execution_count": 50,
   "metadata": {},
   "outputs": [],
   "source": [
    "nums_squared_lc = [num**2 for num in range(5)] # creates list using brackets\n",
    "nums_squared_gc = (num**2 for num in range(5)) # creates generator expression using parentheses"
   ]
  },
  {
   "cell_type": "code",
   "execution_count": 51,
   "metadata": {},
   "outputs": [
    {
     "name": "stdout",
     "output_type": "stream",
     "text": [
      "[0, 1, 4, 9, 16]\n",
      "<generator object <genexpr> at 0x00000153FEDEFEB0>\n"
     ]
    }
   ],
   "source": [
    "print(nums_squared_lc)\n",
    "print(nums_squared_gc)"
   ]
  },
  {
   "attachments": {},
   "cell_type": "markdown",
   "metadata": {},
   "source": [
    "# Event discrete simulation with SimPy\n",
    "\n",
    "https://www.youtube.com/watch?v=Bk91DoAEcjY"
   ]
  },
  {
   "cell_type": "code",
   "execution_count": 52,
   "metadata": {},
   "outputs": [
    {
     "name": "stdout",
     "output_type": "stream",
     "text": [
      "fast 0\n",
      "slow 0\n",
      "fast 0.5\n",
      "slow 1\n",
      "fast 1.0\n",
      "fast 1.5\n"
     ]
    }
   ],
   "source": [
    "def clock(env, name, tick):\n",
    "    while True:\n",
    "        # clock will repeat printing current simulation time\n",
    "        print(name, env.now)\n",
    "        # stop the clock\n",
    "        yield env.timeout(tick)\n",
    "\n",
    "# create environment\n",
    "env = simpy.Environment() \n",
    "\n",
    "# print every half simulation step\n",
    "env.process(clock(env, 'fast', 0.5))\n",
    "\n",
    "# print every simulation step\n",
    "env.process(clock(env, 'slow', 1))\n",
    "\n",
    "# run until simulation time 2\n",
    "env.run(until=2)"
   ]
  },
  {
   "attachments": {},
   "cell_type": "markdown",
   "metadata": {},
   "source": [
    "There are 2 kinds of environments:\n",
    "1. Environment - simulate \"as fast as possible\"\n",
    "2. RealtimeEnvionment - synchronized with wall-clock time\n",
    "    * Observe real-time behaviour"
   ]
  },
  {
   "cell_type": "code",
   "execution_count": 53,
   "metadata": {},
   "outputs": [
    {
     "name": "stdout",
     "output_type": "stream",
     "text": [
      "40\n",
      "70\n"
     ]
    }
   ],
   "source": [
    "# timeout events let time pass\n",
    "\n",
    "def speaker(env, start):\n",
    "    while True:\n",
    "        until_start = start - env.now\n",
    "\n",
    "        # let time pass to wait until the start of the talk\n",
    "        yield env.timeout(until_start)\n",
    "\n",
    "        # end the talk after 30 minutes\n",
    "        yield env.timeout(30)\n",
    "\n",
    "        # let next speaker start after prev speaker ends\n",
    "        start = env.now\n",
    "\n",
    "        # print end timings\n",
    "        print(env.now)\n",
    "\n",
    "env = simpy.Environment()\n",
    "env.process(speaker(env, 10))\n",
    "env.run(until=100)"
   ]
  },
  {
   "cell_type": "code",
   "execution_count": 55,
   "metadata": {},
   "outputs": [
    {
     "name": "stdout",
     "output_type": "stream",
     "text": [
      "('end of talk', 30)\n",
      "('end of talk', 60)\n",
      "('end of talk', 90)\n"
     ]
    }
   ],
   "source": [
    "# processes are events too\n",
    "\n",
    "def speaker(env):\n",
    "    # end the talk after 30 minutes\n",
    "    yield env.timeout(30)\n",
    "    return('end of talk', env.now)\n",
    "\n",
    "def moderator(env):\n",
    "    # 3 speakers\n",
    "    for i in range(3):\n",
    "        # spawn speaker process and wait for that to end before sending another speaker\n",
    "        val = yield env.process(speaker(env))\n",
    "        print(val)\n",
    "\n",
    "env = simpy.Environment()\n",
    "env.process(moderator(env))\n",
    "env.run(until=100)"
   ]
  },
  {
   "attachments": {},
   "cell_type": "markdown",
   "metadata": {},
   "source": [
    "## Asynchronous interrupts\n",
    "\n",
    "Documentation: https://simpy.readthedocs.io/en/latest/topical_guides/resources.html\n",
    "\n",
    "\n",
    "In reality, not all speakers speak for exactly 30 minutes. Moderators must interrupt speakers if they exceed their time limit"
   ]
  },
  {
   "cell_type": "code",
   "execution_count": 79,
   "metadata": {},
   "outputs": [
    {
     "name": "stdout",
     "output_type": "stream",
     "text": [
      "<ConditionValue {<Timeout(30) object at 0x153fefcd940>: None}>\n",
      "No time left\n",
      "<ConditionValue {<Timeout(30) object at 0x153fefcdf70>: None}>\n",
      "No time left\n",
      "27\n",
      "<ConditionValue {<Process(speaker) object at 0x153fefcd5b0>: None}>\n"
     ]
    }
   ],
   "source": [
    "from random import randint\n",
    "\n",
    "def speaker(env):\n",
    "    try:\n",
    "        talk_duration = randint(25, 35)\n",
    "        yield env.timeout(talk_duration)\n",
    "        print(talk_duration)\n",
    "    except simpy.Interrupt as interrupt:\n",
    "        print(interrupt.cause)\n",
    "\n",
    "def moderator(env):\n",
    "    for i in range(3):\n",
    "        speaker_proc = env.process(speaker(env))\n",
    "        results = yield speaker_proc | env.timeout(30) \n",
    "        print(results)\n",
    "\n",
    "        if speaker_proc not in results:\n",
    "            speaker_proc.interrupt('No time left')\n",
    "\n",
    "env = simpy.Environment()\n",
    "env.process(moderator(env))\n",
    "env.run()"
   ]
  },
  {
   "attachments": {},
   "cell_type": "markdown",
   "metadata": {},
   "source": [
    "## Shared resources \n",
    "\n",
    "Documentation: https://simpy.readthedocs.io/en/latest/topical_guides/resources.html\n",
    "\n",
    "Shared resources are another way to model Process Interaction. They form a congestion point where processes *queue* up in order to use them.\n",
    "\n",
    "3 categories:\n",
    "1. Resource - Resources that can be used by a limited number of processes at a time (e.g., a gas station with a limited number of fuel pumps).\n",
    "2. Store - Resources that allow the production and consumption of Python objects.\n",
    "3. Container - Resources that model the production and consumption of a homogeneous, undifferentiated bulk. It may either be continuous (like water) or discrete (like apples).\n",
    "\n",
    "All resources share the same basic concept: The resource itself is some kind of a container with a, usually limited, capacity. Processes can either try to put something into the resource or try to get something out. If the resource is full or empty, they have to queue up and wait."
   ]
  },
  {
   "cell_type": "code",
   "execution_count": null,
   "metadata": {},
   "outputs": [],
   "source": [
    "# imports\n",
    "from random import randint \n",
    "import simpy"
   ]
  },
  {
   "attachments": {},
   "cell_type": "markdown",
   "metadata": {},
   "source": [
    "Now, we will use simpy to model conference attendees. We will model a continuous flow of talks sessions, with each session containing 3 talks of 30 mins each. There will be a 15 mins break between each session (3 talks)"
   ]
  },
  {
   "cell_type": "code",
   "execution_count": 80,
   "metadata": {},
   "outputs": [],
   "source": [
    "# config\n",
    "TALKS_PER_SESSION = 3\n",
    "TALK_LENGTH = 30\n",
    "BREAK_LENGTH = 15"
   ]
  },
  {
   "cell_type": "code",
   "execution_count": null,
   "metadata": {},
   "outputs": [],
   "source": [
    "def attendee(env, name, knowledge=0, hunger=0):\n",
    "    # repeat sessions\n",
    "    while True:\n",
    "        # visit talks\n",
    "        for i in range(TALKS_PER_SESSION):\n",
    "            knowledge += randint(0,3) / (1+hunger) # the more hungry the less knowledge\n",
    "            hunger += randint(1,4)\n",
    "\n",
    "            yield env.timeout(TALK_LENGTH)\n",
    "\n",
    "        print(f'Attendee {name} finished talks with {knowledge:.2f} and {hunger}')"
   ]
  }
 ],
 "metadata": {
  "kernelspec": {
   "display_name": "Python 3",
   "language": "python",
   "name": "python3"
  },
  "language_info": {
   "codemirror_mode": {
    "name": "ipython",
    "version": 3
   },
   "file_extension": ".py",
   "mimetype": "text/x-python",
   "name": "python",
   "nbconvert_exporter": "python",
   "pygments_lexer": "ipython3",
   "version": "3.9.13 (tags/v3.9.13:6de2ca5, May 17 2022, 16:36:42) [MSC v.1929 64 bit (AMD64)]"
  },
  "orig_nbformat": 4,
  "vscode": {
   "interpreter": {
    "hash": "a099c5b74a4ccba8c115409387181d0b84f44b87b8ce47ddd5335e40a2546608"
   }
  }
 },
 "nbformat": 4,
 "nbformat_minor": 2
}
